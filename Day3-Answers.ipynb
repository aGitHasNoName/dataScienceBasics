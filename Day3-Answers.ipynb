{
 "cells": [
  {
   "cell_type": "markdown",
   "metadata": {},
   "source": [
    "# Data Science Basics - Day 3"
   ]
  },
  {
   "cell_type": "markdown",
   "metadata": {},
   "source": [
    "#### If you are using Google Colab, you must run the next line of code. *If you are NOT using Google Colab, do NOT run the next line.*"
   ]
  },
  {
   "cell_type": "code",
   "execution_count": null,
   "metadata": {},
   "outputs": [],
   "source": [
    "!wget https://raw.githubusercontent.com/aGitHasNoName/dataScienceBasics/main/wnba-team-elo-ratings.csv"
   ]
  },
  {
   "cell_type": "markdown",
   "metadata": {},
   "source": [
    "## <br><br>Selecting data with pandas loc, iloc, at, and iat"
   ]
  },
  {
   "cell_type": "markdown",
   "metadata": {},
   "source": [
    "#### <br>Import pandas"
   ]
  },
  {
   "cell_type": "markdown",
   "metadata": {},
   "source": [
    "We import pandas as a shortened nickname, `pd`, which is commonly used for pandas."
   ]
  },
  {
   "cell_type": "code",
   "execution_count": 2,
   "metadata": {},
   "outputs": [],
   "source": [
    "import pandas as pd"
   ]
  },
  {
   "cell_type": "markdown",
   "metadata": {},
   "source": [
    "#### <br><br>Loading in our sample dataset"
   ]
  },
  {
   "cell_type": "markdown",
   "metadata": {},
   "source": [
    "Our sample dataset was taken from FiveThirtyEight. It contains game data for WNBA games since 1997."
   ]
  },
  {
   "cell_type": "code",
   "execution_count": 3,
   "metadata": {},
   "outputs": [],
   "source": [
    "df = pd.read_csv(\"wnba-team-elo-ratings.csv\")"
   ]
  },
  {
   "cell_type": "markdown",
   "metadata": {},
   "source": [
    "<br>Take a minute to examine the dataset."
   ]
  },
  {
   "cell_type": "code",
   "execution_count": 10,
   "metadata": {},
   "outputs": [
    {
     "data": {
      "text/html": [
       "<div>\n",
       "<style scoped>\n",
       "    .dataframe tbody tr th:only-of-type {\n",
       "        vertical-align: middle;\n",
       "    }\n",
       "\n",
       "    .dataframe tbody tr th {\n",
       "        vertical-align: top;\n",
       "    }\n",
       "\n",
       "    .dataframe thead th {\n",
       "        text-align: right;\n",
       "    }\n",
       "</style>\n",
       "<table border=\"1\" class=\"dataframe\">\n",
       "  <thead>\n",
       "    <tr style=\"text-align: right;\">\n",
       "      <th></th>\n",
       "      <th>season</th>\n",
       "      <th>date</th>\n",
       "      <th>team1</th>\n",
       "      <th>team2</th>\n",
       "      <th>name1</th>\n",
       "      <th>name2</th>\n",
       "      <th>neutral</th>\n",
       "      <th>playoff</th>\n",
       "      <th>score1</th>\n",
       "      <th>score2</th>\n",
       "      <th>elo1_pre</th>\n",
       "      <th>elo2_pre</th>\n",
       "      <th>elo1_post</th>\n",
       "      <th>elo2_post</th>\n",
       "      <th>prob1</th>\n",
       "      <th>is_home1</th>\n",
       "    </tr>\n",
       "  </thead>\n",
       "  <tbody>\n",
       "    <tr>\n",
       "      <th>0</th>\n",
       "      <td>2019</td>\n",
       "      <td>10/10/2019</td>\n",
       "      <td>WAS</td>\n",
       "      <td>CON</td>\n",
       "      <td>Washington Mystics</td>\n",
       "      <td>Connecticut Sun</td>\n",
       "      <td>0</td>\n",
       "      <td>1</td>\n",
       "      <td>89</td>\n",
       "      <td>78</td>\n",
       "      <td>1684</td>\n",
       "      <td>1634</td>\n",
       "      <td>1692</td>\n",
       "      <td>1627</td>\n",
       "      <td>0.718</td>\n",
       "      <td>1</td>\n",
       "    </tr>\n",
       "    <tr>\n",
       "      <th>1</th>\n",
       "      <td>2019</td>\n",
       "      <td>10/10/2019</td>\n",
       "      <td>CON</td>\n",
       "      <td>WAS</td>\n",
       "      <td>Connecticut Sun</td>\n",
       "      <td>Washington Mystics</td>\n",
       "      <td>0</td>\n",
       "      <td>1</td>\n",
       "      <td>78</td>\n",
       "      <td>89</td>\n",
       "      <td>1634</td>\n",
       "      <td>1684</td>\n",
       "      <td>1627</td>\n",
       "      <td>1692</td>\n",
       "      <td>0.282</td>\n",
       "      <td>0</td>\n",
       "    </tr>\n",
       "    <tr>\n",
       "      <th>2</th>\n",
       "      <td>2019</td>\n",
       "      <td>10/8/2019</td>\n",
       "      <td>WAS</td>\n",
       "      <td>CON</td>\n",
       "      <td>Washington Mystics</td>\n",
       "      <td>Connecticut Sun</td>\n",
       "      <td>0</td>\n",
       "      <td>1</td>\n",
       "      <td>86</td>\n",
       "      <td>90</td>\n",
       "      <td>1693</td>\n",
       "      <td>1626</td>\n",
       "      <td>1684</td>\n",
       "      <td>1634</td>\n",
       "      <td>0.476</td>\n",
       "      <td>0</td>\n",
       "    </tr>\n",
       "    <tr>\n",
       "      <th>3</th>\n",
       "      <td>2019</td>\n",
       "      <td>10/8/2019</td>\n",
       "      <td>CON</td>\n",
       "      <td>WAS</td>\n",
       "      <td>Connecticut Sun</td>\n",
       "      <td>Washington Mystics</td>\n",
       "      <td>0</td>\n",
       "      <td>1</td>\n",
       "      <td>90</td>\n",
       "      <td>86</td>\n",
       "      <td>1626</td>\n",
       "      <td>1693</td>\n",
       "      <td>1634</td>\n",
       "      <td>1684</td>\n",
       "      <td>0.524</td>\n",
       "      <td>1</td>\n",
       "    </tr>\n",
       "    <tr>\n",
       "      <th>4</th>\n",
       "      <td>2019</td>\n",
       "      <td>10/6/2019</td>\n",
       "      <td>WAS</td>\n",
       "      <td>CON</td>\n",
       "      <td>Washington Mystics</td>\n",
       "      <td>Connecticut Sun</td>\n",
       "      <td>0</td>\n",
       "      <td>1</td>\n",
       "      <td>94</td>\n",
       "      <td>81</td>\n",
       "      <td>1671</td>\n",
       "      <td>1648</td>\n",
       "      <td>1693</td>\n",
       "      <td>1626</td>\n",
       "      <td>0.399</td>\n",
       "      <td>0</td>\n",
       "    </tr>\n",
       "  </tbody>\n",
       "</table>\n",
       "</div>"
      ],
      "text/plain": [
       "   season        date team1 team2               name1               name2  \\\n",
       "0    2019  10/10/2019   WAS   CON  Washington Mystics     Connecticut Sun   \n",
       "1    2019  10/10/2019   CON   WAS     Connecticut Sun  Washington Mystics   \n",
       "2    2019   10/8/2019   WAS   CON  Washington Mystics     Connecticut Sun   \n",
       "3    2019   10/8/2019   CON   WAS     Connecticut Sun  Washington Mystics   \n",
       "4    2019   10/6/2019   WAS   CON  Washington Mystics     Connecticut Sun   \n",
       "\n",
       "   neutral  playoff  score1  score2  elo1_pre  elo2_pre  elo1_post  elo2_post  \\\n",
       "0        0        1      89      78      1684      1634       1692       1627   \n",
       "1        0        1      78      89      1634      1684       1627       1692   \n",
       "2        0        1      86      90      1693      1626       1684       1634   \n",
       "3        0        1      90      86      1626      1693       1634       1684   \n",
       "4        0        1      94      81      1671      1648       1693       1626   \n",
       "\n",
       "   prob1  is_home1  \n",
       "0  0.718         1  \n",
       "1  0.282         0  \n",
       "2  0.476         0  \n",
       "3  0.524         1  \n",
       "4  0.399         0  "
      ]
     },
     "execution_count": 10,
     "metadata": {},
     "output_type": "execute_result"
    }
   ],
   "source": [
    "df.head()"
   ]
  },
  {
   "cell_type": "markdown",
   "metadata": {},
   "source": [
    "<br>How many rows are in the dataset?"
   ]
  },
  {
   "cell_type": "code",
   "execution_count": null,
   "metadata": {},
   "outputs": [],
   "source": [
    "len(df)"
   ]
  },
  {
   "cell_type": "markdown",
   "metadata": {},
   "source": [
    "#### <br><br>Today we will be talking about ways to subsample a pandas DataFrame."
   ]
  },
  {
   "cell_type": "markdown",
   "metadata": {},
   "source": [
    "<br>First, let's review how we can subsample certain columns in our DataFrame. We pass a list inside square brackets:"
   ]
  },
  {
   "cell_type": "code",
   "execution_count": null,
   "metadata": {},
   "outputs": [],
   "source": [
    "df[[\"team1\", \"team2\"]]"
   ]
  },
  {
   "cell_type": "markdown",
   "metadata": {},
   "source": [
    "<br>If we only want to return one column, we can ask for a pandas **Series** object by passing only a column name inside square brackets..."
   ]
  },
  {
   "cell_type": "code",
   "execution_count": null,
   "metadata": {},
   "outputs": [],
   "source": [
    "df[\"team1\"]"
   ]
  },
  {
   "cell_type": "markdown",
   "metadata": {},
   "source": [
    "<br>Or we can ask for a pandas **DataFrame** object by passing a list."
   ]
  },
  {
   "cell_type": "code",
   "execution_count": null,
   "metadata": {},
   "outputs": [],
   "source": [
    "df[[\"team1\"]]"
   ]
  },
  {
   "cell_type": "markdown",
   "metadata": {},
   "source": [
    "<br>**A Series object is a one-dimensional object, while a DataFrame is a two-dimensional object. A Series can be turned into a list, while a DataFrame can be indexed based on row number, so they both have their uses.**"
   ]
  },
  {
   "cell_type": "markdown",
   "metadata": {},
   "source": [
    "<br><br>We can also pass a conditional statement (boolean) to return only some rows in a list:"
   ]
  },
  {
   "cell_type": "code",
   "execution_count": null,
   "metadata": {},
   "outputs": [],
   "source": [
    "df[df[\"team1\"] == \"CHI\"]"
   ]
  },
  {
   "cell_type": "markdown",
   "metadata": {},
   "source": [
    "<br>However, using this method, we cannot refer to individual rows by name or pull up individual cells in our DataFrame."
   ]
  },
  {
   "cell_type": "code",
   "execution_count": null,
   "metadata": {},
   "outputs": [],
   "source": [
    "df[25]"
   ]
  },
  {
   "cell_type": "markdown",
   "metadata": {},
   "source": [
    "## <br><br><br>pandas loc"
   ]
  },
  {
   "cell_type": "markdown",
   "metadata": {},
   "source": [
    "The `loc` **attribute** allows us to call up certain rows and columns. The syntax is:"
   ]
  },
  {
   "cell_type": "markdown",
   "metadata": {},
   "source": [
    "#### `df.loc[row, column]`"
   ]
  },
  {
   "cell_type": "markdown",
   "metadata": {},
   "source": [
    "#### `df.loc[list of rows, list of columns]`"
   ]
  },
  {
   "cell_type": "markdown",
   "metadata": {},
   "source": [
    "#### `df.loc[range of rows, range of columns]`"
   ]
  },
  {
   "cell_type": "markdown",
   "metadata": {},
   "source": [
    "`loc` can take a row, a list of rows, or a range of rows, followed by a comma, and then a column, list of columns, or range of columns. <br><br>If you want all the rows or all the columns, you can use a `:`. <br><br>**The rows that we refer to here are the row names (index names) that are found in bold on the far left of our DataFrame.**"
   ]
  },
  {
   "cell_type": "markdown",
   "metadata": {},
   "source": [
    "<br><br>Let's get a reminder of what our DataFrame looks like:"
   ]
  },
  {
   "cell_type": "code",
   "execution_count": null,
   "metadata": {},
   "outputs": [],
   "source": [
    "df.head()"
   ]
  },
  {
   "cell_type": "markdown",
   "metadata": {},
   "source": [
    "<br><br>To reference one cell:"
   ]
  },
  {
   "cell_type": "code",
   "execution_count": null,
   "metadata": {},
   "outputs": [],
   "source": [
    "df.loc[25, \"date\"]"
   ]
  },
  {
   "cell_type": "markdown",
   "metadata": {},
   "source": [
    "<br><br>All rows for one column:"
   ]
  },
  {
   "cell_type": "code",
   "execution_count": null,
   "metadata": {},
   "outputs": [],
   "source": [
    "df.loc[:, \"team1\"]"
   ]
  },
  {
   "cell_type": "markdown",
   "metadata": {},
   "source": [
    "<br><br>All columns for one row:"
   ]
  },
  {
   "cell_type": "code",
   "execution_count": null,
   "metadata": {},
   "outputs": [],
   "source": [
    "df.loc[12, :]"
   ]
  },
  {
   "cell_type": "markdown",
   "metadata": {},
   "source": [
    "### <br><br>Exercise 1"
   ]
  },
  {
   "cell_type": "markdown",
   "metadata": {},
   "source": [
    "The very first game played by the Chicago Sky is in the row with index 6427."
   ]
  },
  {
   "cell_type": "markdown",
   "metadata": {},
   "source": [
    "Write code to return all columns in that row:"
   ]
  },
  {
   "cell_type": "code",
   "execution_count": 4,
   "metadata": {},
   "outputs": [
    {
     "data": {
      "text/plain": [
       "season                  2006\n",
       "date               5/20/2006\n",
       "team1                    CHI\n",
       "team2                    CHA\n",
       "name1            Chicago Sky\n",
       "name2        Charlotte Sting\n",
       "neutral                    0\n",
       "playoff                    0\n",
       "score1                    83\n",
       "score2                    82\n",
       "elo1_pre                1300\n",
       "elo2_pre                1428\n",
       "elo1_post               1310\n",
       "elo2_post               1418\n",
       "prob1                  0.232\n",
       "is_home1                   0\n",
       "Name: 6427, dtype: object"
      ]
     },
     "execution_count": 4,
     "metadata": {},
     "output_type": "execute_result"
    }
   ],
   "source": [
    "df.loc[6427, :]"
   ]
  },
  {
   "cell_type": "markdown",
   "metadata": {},
   "source": [
    "Did the Chicago Sky play their very first game at home or away? Write code to return the data in the column \"is_home1\" for that row:"
   ]
  },
  {
   "cell_type": "code",
   "execution_count": 5,
   "metadata": {},
   "outputs": [
    {
     "data": {
      "text/plain": [
       "0"
      ]
     },
     "execution_count": 5,
     "metadata": {},
     "output_type": "execute_result"
    }
   ],
   "source": [
    "df.loc[6427, \"is_home1\"]"
   ]
  },
  {
   "cell_type": "markdown",
   "metadata": {},
   "source": [
    "*(1 is True and 0 is False)* "
   ]
  },
  {
   "cell_type": "markdown",
   "metadata": {},
   "source": [
    "## <br><br>`loc` with a range and a list"
   ]
  },
  {
   "cell_type": "markdown",
   "metadata": {},
   "source": [
    "This code will return all columns for the rows 0 through 10."
   ]
  },
  {
   "cell_type": "code",
   "execution_count": null,
   "metadata": {},
   "outputs": [],
   "source": [
    "df.loc[0:10, :]"
   ]
  },
  {
   "cell_type": "markdown",
   "metadata": {},
   "source": [
    "<br>**Unlike Python indexing, `loc` is referencing the rows by their index names, so row 10 is included.**"
   ]
  },
  {
   "cell_type": "markdown",
   "metadata": {},
   "source": [
    "<br><br>We can also ask for a range of columns, from left to right:"
   ]
  },
  {
   "cell_type": "code",
   "execution_count": null,
   "metadata": {},
   "outputs": [],
   "source": [
    "df.loc[0:10, \"season\":\"name2\"]"
   ]
  },
  {
   "cell_type": "markdown",
   "metadata": {},
   "source": [
    "<br><br>Again, `loc` uses the column and row names, not their positions, so this will not work:"
   ]
  },
  {
   "cell_type": "code",
   "execution_count": null,
   "metadata": {},
   "outputs": [],
   "source": [
    "df.loc[0:10, 0:4]"
   ]
  },
  {
   "cell_type": "markdown",
   "metadata": {},
   "source": [
    "<br><br>We can also pass a list of rows or columns:"
   ]
  },
  {
   "cell_type": "code",
   "execution_count": null,
   "metadata": {},
   "outputs": [],
   "source": [
    "df.loc[[0, 10, 8], [\"team1\", \"score1\", \"team2\", \"score2\"]]"
   ]
  },
  {
   "cell_type": "markdown",
   "metadata": {},
   "source": [
    "*Notice how the returned DataFrame used the same order given in the lists.*"
   ]
  },
  {
   "cell_type": "markdown",
   "metadata": {},
   "source": [
    "### <br><br>Exercise 2"
   ]
  },
  {
   "cell_type": "markdown",
   "metadata": {},
   "source": [
    "Run the following cell to store the list of row indexes for the first 5 games played by the Chicago Sky:"
   ]
  },
  {
   "cell_type": "code",
   "execution_count": 6,
   "metadata": {},
   "outputs": [],
   "source": [
    "first5 = [6427, 6415, 6393, 6387, 6371]"
   ]
  },
  {
   "cell_type": "markdown",
   "metadata": {},
   "source": [
    "Write code to return the rows for the first 5 Chicago Sky games, and return only the columns \"team2\", \"score1\", \"score2\", and \"is_home1\":"
   ]
  },
  {
   "cell_type": "code",
   "execution_count": 7,
   "metadata": {},
   "outputs": [
    {
     "data": {
      "text/html": [
       "<div>\n",
       "<style scoped>\n",
       "    .dataframe tbody tr th:only-of-type {\n",
       "        vertical-align: middle;\n",
       "    }\n",
       "\n",
       "    .dataframe tbody tr th {\n",
       "        vertical-align: top;\n",
       "    }\n",
       "\n",
       "    .dataframe thead th {\n",
       "        text-align: right;\n",
       "    }\n",
       "</style>\n",
       "<table border=\"1\" class=\"dataframe\">\n",
       "  <thead>\n",
       "    <tr style=\"text-align: right;\">\n",
       "      <th></th>\n",
       "      <th>team2</th>\n",
       "      <th>score1</th>\n",
       "      <th>score2</th>\n",
       "      <th>is_home1</th>\n",
       "    </tr>\n",
       "  </thead>\n",
       "  <tbody>\n",
       "    <tr>\n",
       "      <th>6427</th>\n",
       "      <td>CHA</td>\n",
       "      <td>83</td>\n",
       "      <td>82</td>\n",
       "      <td>0</td>\n",
       "    </tr>\n",
       "    <tr>\n",
       "      <th>6415</th>\n",
       "      <td>SAC</td>\n",
       "      <td>63</td>\n",
       "      <td>76</td>\n",
       "      <td>1</td>\n",
       "    </tr>\n",
       "    <tr>\n",
       "      <th>6393</th>\n",
       "      <td>IND</td>\n",
       "      <td>60</td>\n",
       "      <td>75</td>\n",
       "      <td>1</td>\n",
       "    </tr>\n",
       "    <tr>\n",
       "      <th>6387</th>\n",
       "      <td>LAS</td>\n",
       "      <td>55</td>\n",
       "      <td>64</td>\n",
       "      <td>1</td>\n",
       "    </tr>\n",
       "    <tr>\n",
       "      <th>6371</th>\n",
       "      <td>HOU</td>\n",
       "      <td>60</td>\n",
       "      <td>71</td>\n",
       "      <td>0</td>\n",
       "    </tr>\n",
       "  </tbody>\n",
       "</table>\n",
       "</div>"
      ],
      "text/plain": [
       "     team2  score1  score2  is_home1\n",
       "6427   CHA      83      82         0\n",
       "6415   SAC      63      76         1\n",
       "6393   IND      60      75         1\n",
       "6387   LAS      55      64         1\n",
       "6371   HOU      60      71         0"
      ]
     },
     "execution_count": 7,
     "metadata": {},
     "output_type": "execute_result"
    }
   ],
   "source": [
    "df.loc[first5, [\"team2\", \"score1\", \"score2\", \"is_home1\"]]"
   ]
  },
  {
   "cell_type": "markdown",
   "metadata": {},
   "source": [
    "## <br><br>`loc` with a conditional"
   ]
  },
  {
   "cell_type": "markdown",
   "metadata": {},
   "source": [
    "You can use a conditional to filter rows. The conditional is written the same way as we would write it without using loc:"
   ]
  },
  {
   "cell_type": "code",
   "execution_count": null,
   "metadata": {},
   "outputs": [],
   "source": [
    "df.loc[df[\"team1\"] == \"CHI\", :]"
   ]
  },
  {
   "cell_type": "markdown",
   "metadata": {},
   "source": [
    "<br><br>Here I use the same filter for the rows, but I only ask for three columns to be returned:"
   ]
  },
  {
   "cell_type": "code",
   "execution_count": null,
   "metadata": {},
   "outputs": [],
   "source": [
    "df.loc[df[\"team1\"] == \"CHI\", [\"team2\", \"score1\", \"score2\"]]"
   ]
  },
  {
   "cell_type": "markdown",
   "metadata": {},
   "source": [
    "### <br><br>Exercise 3"
   ]
  },
  {
   "cell_type": "markdown",
   "metadata": {},
   "source": [
    "Write code to return all games played in the 2012 season. Only return the columns \"date\", \"name1\", and \"name2\"."
   ]
  },
  {
   "cell_type": "code",
   "execution_count": 8,
   "metadata": {},
   "outputs": [
    {
     "data": {
      "text/html": [
       "<div>\n",
       "<style scoped>\n",
       "    .dataframe tbody tr th:only-of-type {\n",
       "        vertical-align: middle;\n",
       "    }\n",
       "\n",
       "    .dataframe tbody tr th {\n",
       "        vertical-align: top;\n",
       "    }\n",
       "\n",
       "    .dataframe thead th {\n",
       "        text-align: right;\n",
       "    }\n",
       "</style>\n",
       "<table border=\"1\" class=\"dataframe\">\n",
       "  <thead>\n",
       "    <tr style=\"text-align: right;\">\n",
       "      <th></th>\n",
       "      <th>date</th>\n",
       "      <th>name1</th>\n",
       "      <th>name2</th>\n",
       "    </tr>\n",
       "  </thead>\n",
       "  <tbody>\n",
       "    <tr>\n",
       "      <th>3096</th>\n",
       "      <td>10/21/2012</td>\n",
       "      <td>Indiana Fever</td>\n",
       "      <td>Minnesota Lynx</td>\n",
       "    </tr>\n",
       "    <tr>\n",
       "      <th>3097</th>\n",
       "      <td>10/21/2012</td>\n",
       "      <td>Minnesota Lynx</td>\n",
       "      <td>Indiana Fever</td>\n",
       "    </tr>\n",
       "    <tr>\n",
       "      <th>3098</th>\n",
       "      <td>10/19/2012</td>\n",
       "      <td>Indiana Fever</td>\n",
       "      <td>Minnesota Lynx</td>\n",
       "    </tr>\n",
       "    <tr>\n",
       "      <th>3099</th>\n",
       "      <td>10/19/2012</td>\n",
       "      <td>Minnesota Lynx</td>\n",
       "      <td>Indiana Fever</td>\n",
       "    </tr>\n",
       "    <tr>\n",
       "      <th>3100</th>\n",
       "      <td>10/17/2012</td>\n",
       "      <td>Minnesota Lynx</td>\n",
       "      <td>Indiana Fever</td>\n",
       "    </tr>\n",
       "    <tr>\n",
       "      <th>...</th>\n",
       "      <td>...</td>\n",
       "      <td>...</td>\n",
       "      <td>...</td>\n",
       "    </tr>\n",
       "    <tr>\n",
       "      <th>3537</th>\n",
       "      <td>5/19/2012</td>\n",
       "      <td>Chicago Sky</td>\n",
       "      <td>Washington Mystics</td>\n",
       "    </tr>\n",
       "    <tr>\n",
       "      <th>3538</th>\n",
       "      <td>5/19/2012</td>\n",
       "      <td>Washington Mystics</td>\n",
       "      <td>Chicago Sky</td>\n",
       "    </tr>\n",
       "    <tr>\n",
       "      <th>3539</th>\n",
       "      <td>5/19/2012</td>\n",
       "      <td>Tulsa Shock</td>\n",
       "      <td>San Antonio Silver Stars</td>\n",
       "    </tr>\n",
       "    <tr>\n",
       "      <th>3540</th>\n",
       "      <td>5/18/2012</td>\n",
       "      <td>Seattle Storm</td>\n",
       "      <td>Los Angeles Sparks</td>\n",
       "    </tr>\n",
       "    <tr>\n",
       "      <th>3541</th>\n",
       "      <td>5/18/2012</td>\n",
       "      <td>Los Angeles Sparks</td>\n",
       "      <td>Seattle Storm</td>\n",
       "    </tr>\n",
       "  </tbody>\n",
       "</table>\n",
       "<p>446 rows × 3 columns</p>\n",
       "</div>"
      ],
      "text/plain": [
       "            date               name1                     name2\n",
       "3096  10/21/2012       Indiana Fever            Minnesota Lynx\n",
       "3097  10/21/2012      Minnesota Lynx             Indiana Fever\n",
       "3098  10/19/2012       Indiana Fever            Minnesota Lynx\n",
       "3099  10/19/2012      Minnesota Lynx             Indiana Fever\n",
       "3100  10/17/2012      Minnesota Lynx             Indiana Fever\n",
       "...          ...                 ...                       ...\n",
       "3537   5/19/2012         Chicago Sky        Washington Mystics\n",
       "3538   5/19/2012  Washington Mystics               Chicago Sky\n",
       "3539   5/19/2012         Tulsa Shock  San Antonio Silver Stars\n",
       "3540   5/18/2012       Seattle Storm        Los Angeles Sparks\n",
       "3541   5/18/2012  Los Angeles Sparks             Seattle Storm\n",
       "\n",
       "[446 rows x 3 columns]"
      ]
     },
     "execution_count": 8,
     "metadata": {},
     "output_type": "execute_result"
    }
   ],
   "source": [
    "df.loc[df[\"season\"] == 2012, [\"date\", \"name1\", \"name2\"]]"
   ]
  },
  {
   "cell_type": "markdown",
   "metadata": {},
   "source": [
    "<br>**I've included a bonus section at the end of this notebook to remind you how to use multiple conditionals in pandas.**"
   ]
  },
  {
   "cell_type": "markdown",
   "metadata": {},
   "source": [
    "## <br><br>pandas `iloc`"
   ]
  },
  {
   "cell_type": "markdown",
   "metadata": {},
   "source": [
    "**While `loc` searches by row and column names, `iloc` searches only by the indexed positions in the DataFrame.**"
   ]
  },
  {
   "cell_type": "markdown",
   "metadata": {},
   "source": [
    "Here, I'm asking for the top 10 rows and the first four columns:"
   ]
  },
  {
   "cell_type": "code",
   "execution_count": null,
   "metadata": {},
   "outputs": [],
   "source": [
    "df.iloc[0:10, 0:4]"
   ]
  },
  {
   "cell_type": "markdown",
   "metadata": {},
   "source": [
    "<br>**Notice that `iloc` uses Python indexing!** When we ask for rows 0:10, it returns rows 0 to 9. Also notice that the index (the bold number on the left side of each row) does not count as a true column."
   ]
  },
  {
   "cell_type": "markdown",
   "metadata": {},
   "source": [
    "<br>Because `iloc` uses Python indexing, we can use negative numbers:"
   ]
  },
  {
   "cell_type": "code",
   "execution_count": null,
   "metadata": {},
   "outputs": [],
   "source": [
    "df.iloc[0:-5000, 4:-10]"
   ]
  },
  {
   "cell_type": "markdown",
   "metadata": {},
   "source": [
    "### <br><br>Exercise 4"
   ]
  },
  {
   "cell_type": "markdown",
   "metadata": {},
   "source": [
    "The games are included in reverse chronological order, so the last row in the table is the very first game ever played."
   ]
  },
  {
   "cell_type": "markdown",
   "metadata": {},
   "source": [
    "Was the very first game played at home or away for team1? Use iloc to return the column \"is_home1\" for the very last row in the DataFrame:"
   ]
  },
  {
   "cell_type": "code",
   "execution_count": 9,
   "metadata": {},
   "outputs": [
    {
     "data": {
      "text/plain": [
       "1"
      ]
     },
     "execution_count": 9,
     "metadata": {},
     "output_type": "execute_result"
    }
   ],
   "source": [
    "df.iloc[-1, -1]"
   ]
  },
  {
   "cell_type": "markdown",
   "metadata": {},
   "source": [
    "Use iloc to write code to return the columns \"team1\" and \"team2\" for the most recent 20 games:"
   ]
  },
  {
   "cell_type": "code",
   "execution_count": 13,
   "metadata": {},
   "outputs": [
    {
     "data": {
      "text/html": [
       "<div>\n",
       "<style scoped>\n",
       "    .dataframe tbody tr th:only-of-type {\n",
       "        vertical-align: middle;\n",
       "    }\n",
       "\n",
       "    .dataframe tbody tr th {\n",
       "        vertical-align: top;\n",
       "    }\n",
       "\n",
       "    .dataframe thead th {\n",
       "        text-align: right;\n",
       "    }\n",
       "</style>\n",
       "<table border=\"1\" class=\"dataframe\">\n",
       "  <thead>\n",
       "    <tr style=\"text-align: right;\">\n",
       "      <th></th>\n",
       "      <th>team1</th>\n",
       "      <th>team2</th>\n",
       "    </tr>\n",
       "  </thead>\n",
       "  <tbody>\n",
       "    <tr>\n",
       "      <th>0</th>\n",
       "      <td>WAS</td>\n",
       "      <td>CON</td>\n",
       "    </tr>\n",
       "    <tr>\n",
       "      <th>1</th>\n",
       "      <td>CON</td>\n",
       "      <td>WAS</td>\n",
       "    </tr>\n",
       "    <tr>\n",
       "      <th>2</th>\n",
       "      <td>WAS</td>\n",
       "      <td>CON</td>\n",
       "    </tr>\n",
       "    <tr>\n",
       "      <th>3</th>\n",
       "      <td>CON</td>\n",
       "      <td>WAS</td>\n",
       "    </tr>\n",
       "    <tr>\n",
       "      <th>4</th>\n",
       "      <td>WAS</td>\n",
       "      <td>CON</td>\n",
       "    </tr>\n",
       "    <tr>\n",
       "      <th>5</th>\n",
       "      <td>CON</td>\n",
       "      <td>WAS</td>\n",
       "    </tr>\n",
       "    <tr>\n",
       "      <th>6</th>\n",
       "      <td>WAS</td>\n",
       "      <td>CON</td>\n",
       "    </tr>\n",
       "    <tr>\n",
       "      <th>7</th>\n",
       "      <td>CON</td>\n",
       "      <td>WAS</td>\n",
       "    </tr>\n",
       "    <tr>\n",
       "      <th>8</th>\n",
       "      <td>WAS</td>\n",
       "      <td>CON</td>\n",
       "    </tr>\n",
       "    <tr>\n",
       "      <th>9</th>\n",
       "      <td>CON</td>\n",
       "      <td>WAS</td>\n",
       "    </tr>\n",
       "    <tr>\n",
       "      <th>10</th>\n",
       "      <td>WAS</td>\n",
       "      <td>LVA</td>\n",
       "    </tr>\n",
       "    <tr>\n",
       "      <th>11</th>\n",
       "      <td>LVA</td>\n",
       "      <td>WAS</td>\n",
       "    </tr>\n",
       "    <tr>\n",
       "      <th>12</th>\n",
       "      <td>WAS</td>\n",
       "      <td>LVA</td>\n",
       "    </tr>\n",
       "    <tr>\n",
       "      <th>13</th>\n",
       "      <td>CON</td>\n",
       "      <td>LAS</td>\n",
       "    </tr>\n",
       "    <tr>\n",
       "      <th>14</th>\n",
       "      <td>LVA</td>\n",
       "      <td>WAS</td>\n",
       "    </tr>\n",
       "    <tr>\n",
       "      <th>15</th>\n",
       "      <td>LAS</td>\n",
       "      <td>CON</td>\n",
       "    </tr>\n",
       "    <tr>\n",
       "      <th>16</th>\n",
       "      <td>WAS</td>\n",
       "      <td>LVA</td>\n",
       "    </tr>\n",
       "    <tr>\n",
       "      <th>17</th>\n",
       "      <td>CON</td>\n",
       "      <td>LAS</td>\n",
       "    </tr>\n",
       "    <tr>\n",
       "      <th>18</th>\n",
       "      <td>LAS</td>\n",
       "      <td>CON</td>\n",
       "    </tr>\n",
       "    <tr>\n",
       "      <th>19</th>\n",
       "      <td>LVA</td>\n",
       "      <td>WAS</td>\n",
       "    </tr>\n",
       "  </tbody>\n",
       "</table>\n",
       "</div>"
      ],
      "text/plain": [
       "   team1 team2\n",
       "0    WAS   CON\n",
       "1    CON   WAS\n",
       "2    WAS   CON\n",
       "3    CON   WAS\n",
       "4    WAS   CON\n",
       "5    CON   WAS\n",
       "6    WAS   CON\n",
       "7    CON   WAS\n",
       "8    WAS   CON\n",
       "9    CON   WAS\n",
       "10   WAS   LVA\n",
       "11   LVA   WAS\n",
       "12   WAS   LVA\n",
       "13   CON   LAS\n",
       "14   LVA   WAS\n",
       "15   LAS   CON\n",
       "16   WAS   LVA\n",
       "17   CON   LAS\n",
       "18   LAS   CON\n",
       "19   LVA   WAS"
      ]
     },
     "execution_count": 13,
     "metadata": {},
     "output_type": "execute_result"
    }
   ],
   "source": [
    "df.iloc[0:20, 2:4]"
   ]
  },
  {
   "cell_type": "markdown",
   "metadata": {},
   "source": [
    "## <br><br>pandas `at` and `iat`"
   ]
  },
  {
   "cell_type": "markdown",
   "metadata": {},
   "source": [
    "If you are looking for the contents of only a single cell (called a **scalar**) in the DataFrame, you can use `loc` or `iloc`:"
   ]
  },
  {
   "cell_type": "code",
   "execution_count": null,
   "metadata": {},
   "outputs": [],
   "source": [
    "df.loc[0, \"season\"]"
   ]
  },
  {
   "cell_type": "code",
   "execution_count": null,
   "metadata": {},
   "outputs": [],
   "source": [
    "df.iloc[0, 0]"
   ]
  },
  {
   "cell_type": "markdown",
   "metadata": {},
   "source": [
    "<br>However, there is another set of pandas functions designed to look up only a single cell. `at` will look up a single cell by row name and column name (like `loc`), and `iat` will look up a single cell by index position (like `iloc`)."
   ]
  },
  {
   "cell_type": "markdown",
   "metadata": {},
   "source": [
    "Why does pandas have a separate way to look up a single cell? Because `at` and `iat` are very fast. If you write code to look up 10,000 single points in a DataFrame, it would be much faster to use `at` or `iat` than `loc` or `iloc`."
   ]
  },
  {
   "cell_type": "code",
   "execution_count": null,
   "metadata": {},
   "outputs": [],
   "source": [
    "df.at[0, \"season\"]"
   ]
  },
  {
   "cell_type": "code",
   "execution_count": null,
   "metadata": {},
   "outputs": [],
   "source": [
    "df.iat[0, 0]"
   ]
  },
  {
   "cell_type": "markdown",
   "metadata": {},
   "source": [
    "<br><br>Just to reiterate, `at` and `iat` cannot be used with multiple rows or columns:"
   ]
  },
  {
   "cell_type": "code",
   "execution_count": null,
   "metadata": {},
   "outputs": [],
   "source": [
    "df.at[0, [\"season\", \"date\"]]"
   ]
  },
  {
   "cell_type": "markdown",
   "metadata": {},
   "source": [
    "### <br><br>Exercise 5"
   ]
  },
  {
   "cell_type": "markdown",
   "metadata": {},
   "source": [
    "Use `at` to write code to find out if the game in row 5485 was played at home or away:"
   ]
  },
  {
   "cell_type": "code",
   "execution_count": 15,
   "metadata": {},
   "outputs": [
    {
     "data": {
      "text/plain": [
       "0"
      ]
     },
     "execution_count": 15,
     "metadata": {},
     "output_type": "execute_result"
    }
   ],
   "source": [
    "df.at[5485, \"is_home1\"]"
   ]
  },
  {
   "cell_type": "markdown",
   "metadata": {},
   "source": [
    "Now use `iat` to find the same answer:"
   ]
  },
  {
   "cell_type": "code",
   "execution_count": 16,
   "metadata": {},
   "outputs": [
    {
     "data": {
      "text/plain": [
       "0"
      ]
     },
     "execution_count": 16,
     "metadata": {},
     "output_type": "execute_result"
    }
   ],
   "source": [
    "df.iat[5485, -1]"
   ]
  },
  {
   "cell_type": "markdown",
   "metadata": {},
   "source": [
    "### <br><br>A note about index labels"
   ]
  },
  {
   "cell_type": "markdown",
   "metadata": {},
   "source": [
    "The bold numbers on the far left of each column were assigned to each row when the csv file was originally loaded into pandas."
   ]
  },
  {
   "cell_type": "code",
   "execution_count": null,
   "metadata": {},
   "outputs": [],
   "source": [
    "df.head()"
   ]
  },
  {
   "cell_type": "markdown",
   "metadata": {},
   "source": [
    "<br>If we make a new DataFrame out of only some rows, the index labels will stay the same, leaving gaps. Let's make a new DataFrame that only includes games played by the Chicago Sky:"
   ]
  },
  {
   "cell_type": "code",
   "execution_count": 17,
   "metadata": {},
   "outputs": [
    {
     "data": {
      "text/html": [
       "<div>\n",
       "<style scoped>\n",
       "    .dataframe tbody tr th:only-of-type {\n",
       "        vertical-align: middle;\n",
       "    }\n",
       "\n",
       "    .dataframe tbody tr th {\n",
       "        vertical-align: top;\n",
       "    }\n",
       "\n",
       "    .dataframe thead th {\n",
       "        text-align: right;\n",
       "    }\n",
       "</style>\n",
       "<table border=\"1\" class=\"dataframe\">\n",
       "  <thead>\n",
       "    <tr style=\"text-align: right;\">\n",
       "      <th></th>\n",
       "      <th>season</th>\n",
       "      <th>date</th>\n",
       "      <th>team1</th>\n",
       "      <th>team2</th>\n",
       "      <th>name1</th>\n",
       "      <th>name2</th>\n",
       "      <th>neutral</th>\n",
       "      <th>playoff</th>\n",
       "      <th>score1</th>\n",
       "      <th>score2</th>\n",
       "      <th>elo1_pre</th>\n",
       "      <th>elo2_pre</th>\n",
       "      <th>elo1_post</th>\n",
       "      <th>elo2_post</th>\n",
       "      <th>prob1</th>\n",
       "      <th>is_home1</th>\n",
       "    </tr>\n",
       "  </thead>\n",
       "  <tbody>\n",
       "    <tr>\n",
       "      <th>25</th>\n",
       "      <td>2019</td>\n",
       "      <td>9/15/2019</td>\n",
       "      <td>CHI</td>\n",
       "      <td>LVA</td>\n",
       "      <td>Chicago Sky</td>\n",
       "      <td>Las Vegas Aces</td>\n",
       "      <td>0</td>\n",
       "      <td>1</td>\n",
       "      <td>92</td>\n",
       "      <td>93</td>\n",
       "      <td>1564</td>\n",
       "      <td>1541</td>\n",
       "      <td>1559</td>\n",
       "      <td>1545</td>\n",
       "      <td>0.399</td>\n",
       "      <td>0</td>\n",
       "    </tr>\n",
       "    <tr>\n",
       "      <th>28</th>\n",
       "      <td>2019</td>\n",
       "      <td>9/11/2019</td>\n",
       "      <td>CHI</td>\n",
       "      <td>PHO</td>\n",
       "      <td>Chicago Sky</td>\n",
       "      <td>Phoenix Mercury</td>\n",
       "      <td>0</td>\n",
       "      <td>1</td>\n",
       "      <td>105</td>\n",
       "      <td>76</td>\n",
       "      <td>1553</td>\n",
       "      <td>1450</td>\n",
       "      <td>1564</td>\n",
       "      <td>1440</td>\n",
       "      <td>0.788</td>\n",
       "      <td>1</td>\n",
       "    </tr>\n",
       "    <tr>\n",
       "      <th>36</th>\n",
       "      <td>2019</td>\n",
       "      <td>9/8/2019</td>\n",
       "      <td>CHI</td>\n",
       "      <td>WAS</td>\n",
       "      <td>Chicago Sky</td>\n",
       "      <td>Washington Mystics</td>\n",
       "      <td>0</td>\n",
       "      <td>0</td>\n",
       "      <td>86</td>\n",
       "      <td>100</td>\n",
       "      <td>1559</td>\n",
       "      <td>1706</td>\n",
       "      <td>1553</td>\n",
       "      <td>1712</td>\n",
       "      <td>0.214</td>\n",
       "      <td>0</td>\n",
       "    </tr>\n",
       "    <tr>\n",
       "      <th>47</th>\n",
       "      <td>2019</td>\n",
       "      <td>9/6/2019</td>\n",
       "      <td>CHI</td>\n",
       "      <td>CON</td>\n",
       "      <td>Chicago Sky</td>\n",
       "      <td>Connecticut Sun</td>\n",
       "      <td>0</td>\n",
       "      <td>0</td>\n",
       "      <td>109</td>\n",
       "      <td>104</td>\n",
       "      <td>1543</td>\n",
       "      <td>1615</td>\n",
       "      <td>1559</td>\n",
       "      <td>1599</td>\n",
       "      <td>0.295</td>\n",
       "      <td>0</td>\n",
       "    </tr>\n",
       "    <tr>\n",
       "      <th>65</th>\n",
       "      <td>2019</td>\n",
       "      <td>9/1/2019</td>\n",
       "      <td>CHI</td>\n",
       "      <td>PHO</td>\n",
       "      <td>Chicago Sky</td>\n",
       "      <td>Phoenix Mercury</td>\n",
       "      <td>0</td>\n",
       "      <td>0</td>\n",
       "      <td>105</td>\n",
       "      <td>78</td>\n",
       "      <td>1522</td>\n",
       "      <td>1527</td>\n",
       "      <td>1543</td>\n",
       "      <td>1506</td>\n",
       "      <td>0.607</td>\n",
       "      <td>1</td>\n",
       "    </tr>\n",
       "  </tbody>\n",
       "</table>\n",
       "</div>"
      ],
      "text/plain": [
       "    season       date team1 team2        name1               name2  neutral  \\\n",
       "25    2019  9/15/2019   CHI   LVA  Chicago Sky      Las Vegas Aces        0   \n",
       "28    2019  9/11/2019   CHI   PHO  Chicago Sky     Phoenix Mercury        0   \n",
       "36    2019   9/8/2019   CHI   WAS  Chicago Sky  Washington Mystics        0   \n",
       "47    2019   9/6/2019   CHI   CON  Chicago Sky     Connecticut Sun        0   \n",
       "65    2019   9/1/2019   CHI   PHO  Chicago Sky     Phoenix Mercury        0   \n",
       "\n",
       "    playoff  score1  score2  elo1_pre  elo2_pre  elo1_post  elo2_post  prob1  \\\n",
       "25        1      92      93      1564      1541       1559       1545  0.399   \n",
       "28        1     105      76      1553      1450       1564       1440  0.788   \n",
       "36        0      86     100      1559      1706       1553       1712  0.214   \n",
       "47        0     109     104      1543      1615       1559       1599  0.295   \n",
       "65        0     105      78      1522      1527       1543       1506  0.607   \n",
       "\n",
       "    is_home1  \n",
       "25         0  \n",
       "28         1  \n",
       "36         0  \n",
       "47         0  \n",
       "65         1  "
      ]
     },
     "execution_count": 17,
     "metadata": {},
     "output_type": "execute_result"
    }
   ],
   "source": [
    "CHIdf = df.loc[df[\"team1\"] == \"CHI\", :]\n",
    "CHIdf.head()"
   ]
  },
  {
   "cell_type": "markdown",
   "metadata": {},
   "source": [
    "<br>I can now use `iloc` to get Chicago's most recent 30 games:"
   ]
  },
  {
   "cell_type": "code",
   "execution_count": null,
   "metadata": {},
   "outputs": [],
   "source": [
    "CHIdf.iloc[0:30, :]"
   ]
  },
  {
   "cell_type": "markdown",
   "metadata": {},
   "source": [
    "<br>But I could not use `loc` to get the same thing:"
   ]
  },
  {
   "cell_type": "code",
   "execution_count": null,
   "metadata": {},
   "outputs": [],
   "source": [
    "CHIdf.loc[0:30, :]"
   ]
  },
  {
   "cell_type": "markdown",
   "metadata": {},
   "source": [
    "<br>You can, however, set one of your columns as the index labels:"
   ]
  },
  {
   "cell_type": "code",
   "execution_count": 23,
   "metadata": {},
   "outputs": [],
   "source": [
    "CHIdf = CHIdf.set_index(\"date\")"
   ]
  },
  {
   "cell_type": "code",
   "execution_count": null,
   "metadata": {},
   "outputs": [],
   "source": [
    "CHIdf.head()"
   ]
  },
  {
   "cell_type": "markdown",
   "metadata": {},
   "source": [
    "<br>Now I can use `loc` to reference the games by date:"
   ]
  },
  {
   "cell_type": "code",
   "execution_count": null,
   "metadata": {},
   "outputs": [],
   "source": [
    "CHIdf.loc[\"9/13/2012\", :]"
   ]
  },
  {
   "cell_type": "markdown",
   "metadata": {},
   "source": [
    "<br><br>I can still use a range of row labels:"
   ]
  },
  {
   "cell_type": "code",
   "execution_count": null,
   "metadata": {},
   "outputs": [],
   "source": [
    "CHIdf.loc[\"9/13/2012\":\"5/19/2012\", :]"
   ]
  },
  {
   "cell_type": "markdown",
   "metadata": {},
   "source": [
    "<br>If you've been wondering why referencing rows by index numbers would ever be useful, now you can set your index names to any unique value that would be useful to you - a sample ID, a name, a date, etc."
   ]
  },
  {
   "cell_type": "markdown",
   "metadata": {},
   "source": [
    "### <br><br>Exercise 6"
   ]
  },
  {
   "cell_type": "markdown",
   "metadata": {},
   "source": [
    "Using the CHIdf, write code (use either `loc` or `at`) to find out which team Chicago played against on 6/16/2017:"
   ]
  },
  {
   "cell_type": "code",
   "execution_count": 25,
   "metadata": {},
   "outputs": [
    {
     "data": {
      "text/plain": [
       "'PHO'"
      ]
     },
     "execution_count": 25,
     "metadata": {},
     "output_type": "execute_result"
    }
   ],
   "source": [
    "CHIdf.at[\"6/16/2017\", \"team2\"]"
   ]
  },
  {
   "cell_type": "markdown",
   "metadata": {},
   "source": [
    "OR"
   ]
  },
  {
   "cell_type": "code",
   "execution_count": 26,
   "metadata": {},
   "outputs": [
    {
     "data": {
      "text/plain": [
       "'PHO'"
      ]
     },
     "execution_count": 26,
     "metadata": {},
     "output_type": "execute_result"
    }
   ],
   "source": [
    "CHIdf.loc[\"6/16/2017\", \"team2\"]"
   ]
  },
  {
   "cell_type": "markdown",
   "metadata": {},
   "source": [
    "### <br><br>BONUS SECTION"
   ]
  },
  {
   "cell_type": "markdown",
   "metadata": {},
   "source": [
    "#### A reminder about searching for multiple conditionals in pandas"
   ]
  },
  {
   "cell_type": "markdown",
   "metadata": {},
   "source": [
    "<br><br>Let's say we want to search through the original DataFrame, `df`, for all games played by the Chicago Sky where the Chicago Sky won. For each of these games, we want to return only the columns for season and the name of the opposing team."
   ]
  },
  {
   "cell_type": "markdown",
   "metadata": {},
   "source": [
    "The conditional for only Chicago Sky games is:\n",
    "<br>`df[\"team1\"] == \"CHI\"`\n",
    "<br><br>The conditional for games that Chicago won is:\n",
    "<br>`df[\"score1\"] > df[\"score2\"]`"
   ]
  },
  {
   "cell_type": "markdown",
   "metadata": {},
   "source": [
    "We might try to use Python operators (`and`, `or`, `not`):"
   ]
  },
  {
   "cell_type": "code",
   "execution_count": null,
   "metadata": {},
   "outputs": [],
   "source": [
    "df.loc[df[\"team1\"] == \"CHI\" and df[\"score1\"] > df[\"score2\"], [\"season\", \"name2\"]]"
   ]
  },
  {
   "cell_type": "markdown",
   "metadata": {},
   "source": [
    "<br><br>However, as a reminder, pandas uses the operators `&`, `|`, `!`. pandas also requires you to include each conditional inside parentheses."
   ]
  },
  {
   "cell_type": "code",
   "execution_count": null,
   "metadata": {},
   "outputs": [],
   "source": [
    "df.loc[(df[\"team1\"] == \"CHI\") & (df[\"score1\"] > df[\"score2\"]), [\"season\", \"team2\"]]"
   ]
  },
  {
   "cell_type": "markdown",
   "metadata": {},
   "source": [
    "### <br><br>Exercise 7"
   ]
  },
  {
   "cell_type": "markdown",
   "metadata": {},
   "source": [
    "Use `loc` to return rows in the DataFrame that were played in either the 1999 or 2000 seasons. For each row, return all columns:"
   ]
  },
  {
   "cell_type": "code",
   "execution_count": 27,
   "metadata": {},
   "outputs": [
    {
     "data": {
      "text/html": [
       "<div>\n",
       "<style scoped>\n",
       "    .dataframe tbody tr th:only-of-type {\n",
       "        vertical-align: middle;\n",
       "    }\n",
       "\n",
       "    .dataframe tbody tr th {\n",
       "        vertical-align: top;\n",
       "    }\n",
       "\n",
       "    .dataframe thead th {\n",
       "        text-align: right;\n",
       "    }\n",
       "</style>\n",
       "<table border=\"1\" class=\"dataframe\">\n",
       "  <thead>\n",
       "    <tr style=\"text-align: right;\">\n",
       "      <th></th>\n",
       "      <th>season</th>\n",
       "      <th>date</th>\n",
       "      <th>team1</th>\n",
       "      <th>team2</th>\n",
       "      <th>name1</th>\n",
       "      <th>name2</th>\n",
       "      <th>neutral</th>\n",
       "      <th>playoff</th>\n",
       "      <th>score1</th>\n",
       "      <th>score2</th>\n",
       "      <th>elo1_pre</th>\n",
       "      <th>elo2_pre</th>\n",
       "      <th>elo1_post</th>\n",
       "      <th>elo2_post</th>\n",
       "      <th>prob1</th>\n",
       "      <th>is_home1</th>\n",
       "    </tr>\n",
       "  </thead>\n",
       "  <tbody>\n",
       "    <tr>\n",
       "      <th>8992</th>\n",
       "      <td>2000</td>\n",
       "      <td>8/26/2000</td>\n",
       "      <td>HOU</td>\n",
       "      <td>NYL</td>\n",
       "      <td>Houston Comets</td>\n",
       "      <td>New York Liberty</td>\n",
       "      <td>0</td>\n",
       "      <td>1</td>\n",
       "      <td>79</td>\n",
       "      <td>73</td>\n",
       "      <td>1741</td>\n",
       "      <td>1523</td>\n",
       "      <td>1743</td>\n",
       "      <td>1522</td>\n",
       "      <td>0.895</td>\n",
       "      <td>1</td>\n",
       "    </tr>\n",
       "    <tr>\n",
       "      <th>8993</th>\n",
       "      <td>2000</td>\n",
       "      <td>8/26/2000</td>\n",
       "      <td>NYL</td>\n",
       "      <td>HOU</td>\n",
       "      <td>New York Liberty</td>\n",
       "      <td>Houston Comets</td>\n",
       "      <td>0</td>\n",
       "      <td>1</td>\n",
       "      <td>73</td>\n",
       "      <td>79</td>\n",
       "      <td>1523</td>\n",
       "      <td>1741</td>\n",
       "      <td>1522</td>\n",
       "      <td>1743</td>\n",
       "      <td>0.105</td>\n",
       "      <td>0</td>\n",
       "    </tr>\n",
       "    <tr>\n",
       "      <th>8994</th>\n",
       "      <td>2000</td>\n",
       "      <td>8/24/2000</td>\n",
       "      <td>HOU</td>\n",
       "      <td>NYL</td>\n",
       "      <td>Houston Comets</td>\n",
       "      <td>New York Liberty</td>\n",
       "      <td>0</td>\n",
       "      <td>1</td>\n",
       "      <td>59</td>\n",
       "      <td>52</td>\n",
       "      <td>1735</td>\n",
       "      <td>1529</td>\n",
       "      <td>1741</td>\n",
       "      <td>1523</td>\n",
       "      <td>0.712</td>\n",
       "      <td>0</td>\n",
       "    </tr>\n",
       "    <tr>\n",
       "      <th>8995</th>\n",
       "      <td>2000</td>\n",
       "      <td>8/24/2000</td>\n",
       "      <td>NYL</td>\n",
       "      <td>HOU</td>\n",
       "      <td>New York Liberty</td>\n",
       "      <td>Houston Comets</td>\n",
       "      <td>0</td>\n",
       "      <td>1</td>\n",
       "      <td>52</td>\n",
       "      <td>59</td>\n",
       "      <td>1529</td>\n",
       "      <td>1735</td>\n",
       "      <td>1523</td>\n",
       "      <td>1741</td>\n",
       "      <td>0.288</td>\n",
       "      <td>1</td>\n",
       "    </tr>\n",
       "    <tr>\n",
       "      <th>8996</th>\n",
       "      <td>2000</td>\n",
       "      <td>8/21/2000</td>\n",
       "      <td>NYL</td>\n",
       "      <td>CLE</td>\n",
       "      <td>New York Liberty</td>\n",
       "      <td>Cleveland Rockers</td>\n",
       "      <td>0</td>\n",
       "      <td>1</td>\n",
       "      <td>81</td>\n",
       "      <td>67</td>\n",
       "      <td>1521</td>\n",
       "      <td>1460</td>\n",
       "      <td>1529</td>\n",
       "      <td>1451</td>\n",
       "      <td>0.734</td>\n",
       "      <td>1</td>\n",
       "    </tr>\n",
       "    <tr>\n",
       "      <th>...</th>\n",
       "      <td>...</td>\n",
       "      <td>...</td>\n",
       "      <td>...</td>\n",
       "      <td>...</td>\n",
       "      <td>...</td>\n",
       "      <td>...</td>\n",
       "      <td>...</td>\n",
       "      <td>...</td>\n",
       "      <td>...</td>\n",
       "      <td>...</td>\n",
       "      <td>...</td>\n",
       "      <td>...</td>\n",
       "      <td>...</td>\n",
       "      <td>...</td>\n",
       "      <td>...</td>\n",
       "      <td>...</td>\n",
       "    </tr>\n",
       "    <tr>\n",
       "      <th>9937</th>\n",
       "      <td>1999</td>\n",
       "      <td>6/10/1999</td>\n",
       "      <td>LAS</td>\n",
       "      <td>SAC</td>\n",
       "      <td>Los Angeles Sparks</td>\n",
       "      <td>Sacramento Monarchs</td>\n",
       "      <td>0</td>\n",
       "      <td>0</td>\n",
       "      <td>100</td>\n",
       "      <td>78</td>\n",
       "      <td>1482</td>\n",
       "      <td>1423</td>\n",
       "      <td>1496</td>\n",
       "      <td>1410</td>\n",
       "      <td>0.689</td>\n",
       "      <td>1</td>\n",
       "    </tr>\n",
       "    <tr>\n",
       "      <th>9938</th>\n",
       "      <td>1999</td>\n",
       "      <td>6/10/1999</td>\n",
       "      <td>CHA</td>\n",
       "      <td>WAS</td>\n",
       "      <td>Charlotte Sting</td>\n",
       "      <td>Washington Mystics</td>\n",
       "      <td>0</td>\n",
       "      <td>0</td>\n",
       "      <td>83</td>\n",
       "      <td>73</td>\n",
       "      <td>1482</td>\n",
       "      <td>1334</td>\n",
       "      <td>1493</td>\n",
       "      <td>1323</td>\n",
       "      <td>0.597</td>\n",
       "      <td>0</td>\n",
       "    </tr>\n",
       "    <tr>\n",
       "      <th>9939</th>\n",
       "      <td>1999</td>\n",
       "      <td>6/10/1999</td>\n",
       "      <td>SAC</td>\n",
       "      <td>LAS</td>\n",
       "      <td>Sacramento Monarchs</td>\n",
       "      <td>Los Angeles Sparks</td>\n",
       "      <td>0</td>\n",
       "      <td>0</td>\n",
       "      <td>78</td>\n",
       "      <td>100</td>\n",
       "      <td>1423</td>\n",
       "      <td>1482</td>\n",
       "      <td>1410</td>\n",
       "      <td>1496</td>\n",
       "      <td>0.311</td>\n",
       "      <td>0</td>\n",
       "    </tr>\n",
       "    <tr>\n",
       "      <th>9940</th>\n",
       "      <td>1999</td>\n",
       "      <td>6/10/1999</td>\n",
       "      <td>WAS</td>\n",
       "      <td>CHA</td>\n",
       "      <td>Washington Mystics</td>\n",
       "      <td>Charlotte Sting</td>\n",
       "      <td>0</td>\n",
       "      <td>0</td>\n",
       "      <td>73</td>\n",
       "      <td>83</td>\n",
       "      <td>1334</td>\n",
       "      <td>1482</td>\n",
       "      <td>1323</td>\n",
       "      <td>1493</td>\n",
       "      <td>0.403</td>\n",
       "      <td>1</td>\n",
       "    </tr>\n",
       "    <tr>\n",
       "      <th>9941</th>\n",
       "      <td>1999</td>\n",
       "      <td>6/10/1999</td>\n",
       "      <td>CON</td>\n",
       "      <td>HOU</td>\n",
       "      <td>Orlando Miracle</td>\n",
       "      <td>Houston Comets</td>\n",
       "      <td>0</td>\n",
       "      <td>0</td>\n",
       "      <td>63</td>\n",
       "      <td>77</td>\n",
       "      <td>1300</td>\n",
       "      <td>1606</td>\n",
       "      <td>1293</td>\n",
       "      <td>1613</td>\n",
       "      <td>0.214</td>\n",
       "      <td>1</td>\n",
       "    </tr>\n",
       "  </tbody>\n",
       "</table>\n",
       "<p>950 rows × 16 columns</p>\n",
       "</div>"
      ],
      "text/plain": [
       "      season       date team1 team2                name1                name2  \\\n",
       "8992    2000  8/26/2000   HOU   NYL       Houston Comets     New York Liberty   \n",
       "8993    2000  8/26/2000   NYL   HOU     New York Liberty       Houston Comets   \n",
       "8994    2000  8/24/2000   HOU   NYL       Houston Comets     New York Liberty   \n",
       "8995    2000  8/24/2000   NYL   HOU     New York Liberty       Houston Comets   \n",
       "8996    2000  8/21/2000   NYL   CLE     New York Liberty    Cleveland Rockers   \n",
       "...      ...        ...   ...   ...                  ...                  ...   \n",
       "9937    1999  6/10/1999   LAS   SAC   Los Angeles Sparks  Sacramento Monarchs   \n",
       "9938    1999  6/10/1999   CHA   WAS      Charlotte Sting   Washington Mystics   \n",
       "9939    1999  6/10/1999   SAC   LAS  Sacramento Monarchs   Los Angeles Sparks   \n",
       "9940    1999  6/10/1999   WAS   CHA   Washington Mystics      Charlotte Sting   \n",
       "9941    1999  6/10/1999   CON   HOU      Orlando Miracle       Houston Comets   \n",
       "\n",
       "      neutral  playoff  score1  score2  elo1_pre  elo2_pre  elo1_post  \\\n",
       "8992        0        1      79      73      1741      1523       1743   \n",
       "8993        0        1      73      79      1523      1741       1522   \n",
       "8994        0        1      59      52      1735      1529       1741   \n",
       "8995        0        1      52      59      1529      1735       1523   \n",
       "8996        0        1      81      67      1521      1460       1529   \n",
       "...       ...      ...     ...     ...       ...       ...        ...   \n",
       "9937        0        0     100      78      1482      1423       1496   \n",
       "9938        0        0      83      73      1482      1334       1493   \n",
       "9939        0        0      78     100      1423      1482       1410   \n",
       "9940        0        0      73      83      1334      1482       1323   \n",
       "9941        0        0      63      77      1300      1606       1293   \n",
       "\n",
       "      elo2_post  prob1  is_home1  \n",
       "8992       1522  0.895         1  \n",
       "8993       1743  0.105         0  \n",
       "8994       1523  0.712         0  \n",
       "8995       1741  0.288         1  \n",
       "8996       1451  0.734         1  \n",
       "...         ...    ...       ...  \n",
       "9937       1410  0.689         1  \n",
       "9938       1323  0.597         0  \n",
       "9939       1496  0.311         0  \n",
       "9940       1493  0.403         1  \n",
       "9941       1613  0.214         1  \n",
       "\n",
       "[950 rows x 16 columns]"
      ]
     },
     "execution_count": 27,
     "metadata": {},
     "output_type": "execute_result"
    }
   ],
   "source": [
    "df.loc[(df[\"season\"] == 1999) | (df[\"season\"] == 2000), :]"
   ]
  },
  {
   "cell_type": "markdown",
   "metadata": {},
   "source": [
    "Has Chicago ever played in any playoff games? Return rows that have CHI in the \"team1\" column and 1 in the \"playoff\" column. Only return the columns \"season\", \"team2\", and \"date\":"
   ]
  },
  {
   "cell_type": "code",
   "execution_count": 28,
   "metadata": {},
   "outputs": [
    {
     "data": {
      "text/html": [
       "<div>\n",
       "<style scoped>\n",
       "    .dataframe tbody tr th:only-of-type {\n",
       "        vertical-align: middle;\n",
       "    }\n",
       "\n",
       "    .dataframe tbody tr th {\n",
       "        vertical-align: top;\n",
       "    }\n",
       "\n",
       "    .dataframe thead th {\n",
       "        text-align: right;\n",
       "    }\n",
       "</style>\n",
       "<table border=\"1\" class=\"dataframe\">\n",
       "  <thead>\n",
       "    <tr style=\"text-align: right;\">\n",
       "      <th></th>\n",
       "      <th>season</th>\n",
       "      <th>team2</th>\n",
       "      <th>date</th>\n",
       "    </tr>\n",
       "  </thead>\n",
       "  <tbody>\n",
       "    <tr>\n",
       "      <th>25</th>\n",
       "      <td>2019</td>\n",
       "      <td>LVA</td>\n",
       "      <td>9/15/2019</td>\n",
       "    </tr>\n",
       "    <tr>\n",
       "      <th>28</th>\n",
       "      <td>2019</td>\n",
       "      <td>PHO</td>\n",
       "      <td>9/11/2019</td>\n",
       "    </tr>\n",
       "    <tr>\n",
       "      <th>1331</th>\n",
       "      <td>2016</td>\n",
       "      <td>LAS</td>\n",
       "      <td>10/4/2016</td>\n",
       "    </tr>\n",
       "    <tr>\n",
       "      <th>1335</th>\n",
       "      <td>2016</td>\n",
       "      <td>LAS</td>\n",
       "      <td>10/2/2016</td>\n",
       "    </tr>\n",
       "    <tr>\n",
       "      <th>1339</th>\n",
       "      <td>2016</td>\n",
       "      <td>LAS</td>\n",
       "      <td>9/30/2016</td>\n",
       "    </tr>\n",
       "    <tr>\n",
       "      <th>1343</th>\n",
       "      <td>2016</td>\n",
       "      <td>LAS</td>\n",
       "      <td>9/28/2016</td>\n",
       "    </tr>\n",
       "    <tr>\n",
       "      <th>1344</th>\n",
       "      <td>2016</td>\n",
       "      <td>ATL</td>\n",
       "      <td>9/25/2016</td>\n",
       "    </tr>\n",
       "    <tr>\n",
       "      <th>1785</th>\n",
       "      <td>2015</td>\n",
       "      <td>IND</td>\n",
       "      <td>9/21/2015</td>\n",
       "    </tr>\n",
       "    <tr>\n",
       "      <th>1791</th>\n",
       "      <td>2015</td>\n",
       "      <td>IND</td>\n",
       "      <td>9/19/2015</td>\n",
       "    </tr>\n",
       "    <tr>\n",
       "      <th>1799</th>\n",
       "      <td>2015</td>\n",
       "      <td>IND</td>\n",
       "      <td>9/17/2015</td>\n",
       "    </tr>\n",
       "    <tr>\n",
       "      <th>2211</th>\n",
       "      <td>2014</td>\n",
       "      <td>PHO</td>\n",
       "      <td>9/12/2014</td>\n",
       "    </tr>\n",
       "    <tr>\n",
       "      <th>2213</th>\n",
       "      <td>2014</td>\n",
       "      <td>PHO</td>\n",
       "      <td>9/9/2014</td>\n",
       "    </tr>\n",
       "    <tr>\n",
       "      <th>2215</th>\n",
       "      <td>2014</td>\n",
       "      <td>PHO</td>\n",
       "      <td>9/7/2014</td>\n",
       "    </tr>\n",
       "    <tr>\n",
       "      <th>2216</th>\n",
       "      <td>2014</td>\n",
       "      <td>IND</td>\n",
       "      <td>9/3/2014</td>\n",
       "    </tr>\n",
       "    <tr>\n",
       "      <th>2221</th>\n",
       "      <td>2014</td>\n",
       "      <td>IND</td>\n",
       "      <td>9/1/2014</td>\n",
       "    </tr>\n",
       "    <tr>\n",
       "      <th>2225</th>\n",
       "      <td>2014</td>\n",
       "      <td>IND</td>\n",
       "      <td>8/30/2014</td>\n",
       "    </tr>\n",
       "    <tr>\n",
       "      <th>2229</th>\n",
       "      <td>2014</td>\n",
       "      <td>ATL</td>\n",
       "      <td>8/26/2014</td>\n",
       "    </tr>\n",
       "    <tr>\n",
       "      <th>2233</th>\n",
       "      <td>2014</td>\n",
       "      <td>ATL</td>\n",
       "      <td>8/24/2014</td>\n",
       "    </tr>\n",
       "    <tr>\n",
       "      <th>2241</th>\n",
       "      <td>2014</td>\n",
       "      <td>ATL</td>\n",
       "      <td>8/22/2014</td>\n",
       "    </tr>\n",
       "    <tr>\n",
       "      <th>2674</th>\n",
       "      <td>2013</td>\n",
       "      <td>IND</td>\n",
       "      <td>9/22/2013</td>\n",
       "    </tr>\n",
       "    <tr>\n",
       "      <th>2681</th>\n",
       "      <td>2013</td>\n",
       "      <td>IND</td>\n",
       "      <td>9/20/2013</td>\n",
       "    </tr>\n",
       "  </tbody>\n",
       "</table>\n",
       "</div>"
      ],
      "text/plain": [
       "      season team2       date\n",
       "25      2019   LVA  9/15/2019\n",
       "28      2019   PHO  9/11/2019\n",
       "1331    2016   LAS  10/4/2016\n",
       "1335    2016   LAS  10/2/2016\n",
       "1339    2016   LAS  9/30/2016\n",
       "1343    2016   LAS  9/28/2016\n",
       "1344    2016   ATL  9/25/2016\n",
       "1785    2015   IND  9/21/2015\n",
       "1791    2015   IND  9/19/2015\n",
       "1799    2015   IND  9/17/2015\n",
       "2211    2014   PHO  9/12/2014\n",
       "2213    2014   PHO   9/9/2014\n",
       "2215    2014   PHO   9/7/2014\n",
       "2216    2014   IND   9/3/2014\n",
       "2221    2014   IND   9/1/2014\n",
       "2225    2014   IND  8/30/2014\n",
       "2229    2014   ATL  8/26/2014\n",
       "2233    2014   ATL  8/24/2014\n",
       "2241    2014   ATL  8/22/2014\n",
       "2674    2013   IND  9/22/2013\n",
       "2681    2013   IND  9/20/2013"
      ]
     },
     "execution_count": 28,
     "metadata": {},
     "output_type": "execute_result"
    }
   ],
   "source": [
    "df.loc[(df[\"team1\"] == \"CHI\") & (df[\"playoff\"] == 1), [\"season\", \"team2\", \"date\"]]"
   ]
  },
  {
   "cell_type": "markdown",
   "metadata": {},
   "source": [
    "#### <br><br><br>What to learn next\n",
    "You can also change data in your dataframe using `loc`. Check out this nice blog post to learn more: https://towardsdatascience.com/a-python-beginners-look-at-loc-part-2-bddef7dfa7f2"
   ]
  }
 ],
 "metadata": {
  "kernelspec": {
   "display_name": "Python 3",
   "language": "python",
   "name": "python3"
  },
  "language_info": {
   "codemirror_mode": {
    "name": "ipython",
    "version": 3
   },
   "file_extension": ".py",
   "mimetype": "text/x-python",
   "name": "python",
   "nbconvert_exporter": "python",
   "pygments_lexer": "ipython3",
   "version": "3.7.3"
  }
 },
 "nbformat": 4,
 "nbformat_minor": 4
}
