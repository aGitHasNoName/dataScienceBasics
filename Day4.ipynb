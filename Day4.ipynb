{
 "cells": [
  {
   "cell_type": "markdown",
   "metadata": {},
   "source": [
    "# Data Science Basics - Day 4"
   ]
  },
  {
   "cell_type": "markdown",
   "metadata": {},
   "source": [
    "#### If you are using Google Colab, you must run the next line of code. *If you are NOT using Google Colab, do NOT run the next line.*"
   ]
  },
  {
   "cell_type": "code",
   "execution_count": null,
   "metadata": {},
   "outputs": [],
   "source": [
    "!wget https://raw.githubusercontent.com/aGitHasNoName/dataScienceBasics/main/pigeonRacing.txt"
   ]
  },
  {
   "cell_type": "markdown",
   "metadata": {},
   "source": [
    "<br><br>First, we will import pandas and load the pigeon racing dataset."
   ]
  },
  {
   "cell_type": "code",
   "execution_count": 1,
   "metadata": {},
   "outputs": [],
   "source": [
    "import pandas as pd"
   ]
  },
  {
   "cell_type": "code",
   "execution_count": 2,
   "metadata": {},
   "outputs": [],
   "source": [
    "df = pd.read_csv(\"pigeonRacing.txt\", delimiter=\"\\t\")"
   ]
  },
  {
   "cell_type": "markdown",
   "metadata": {},
   "source": [
    "<br>Let's take a look at our dataset:"
   ]
  },
  {
   "cell_type": "code",
   "execution_count": 5,
   "metadata": {},
   "outputs": [
    {
     "data": {
      "text/html": [
       "<div>\n",
       "<style scoped>\n",
       "    .dataframe tbody tr th:only-of-type {\n",
       "        vertical-align: middle;\n",
       "    }\n",
       "\n",
       "    .dataframe tbody tr th {\n",
       "        vertical-align: top;\n",
       "    }\n",
       "\n",
       "    .dataframe thead th {\n",
       "        text-align: right;\n",
       "    }\n",
       "</style>\n",
       "<table border=\"1\" class=\"dataframe\">\n",
       "  <thead>\n",
       "    <tr style=\"text-align: right;\">\n",
       "      <th></th>\n",
       "      <th>Position</th>\n",
       "      <th>Avg Unirate</th>\n",
       "      <th>Name</th>\n",
       "      <th>Racing Pigeon</th>\n",
       "      <th>Color</th>\n",
       "      <th>Sex</th>\n",
       "      <th>Qualifying Race Miles</th>\n",
       "      <th>Average Birdage</th>\n",
       "    </tr>\n",
       "  </thead>\n",
       "  <tbody>\n",
       "    <tr>\n",
       "      <th>0</th>\n",
       "      <td>1</td>\n",
       "      <td>0.26%</td>\n",
       "      <td>Dean Schultz</td>\n",
       "      <td>751 AU 18 PURP</td>\n",
       "      <td>BB</td>\n",
       "      <td>F</td>\n",
       "      <td>469, 469</td>\n",
       "      <td>612.0</td>\n",
       "    </tr>\n",
       "    <tr>\n",
       "      <th>1</th>\n",
       "      <td>2</td>\n",
       "      <td>1.08%</td>\n",
       "      <td>Dick Fassio</td>\n",
       "      <td>9027 AU 19 SLI</td>\n",
       "      <td>BBAR</td>\n",
       "      <td>F</td>\n",
       "      <td>579, 500</td>\n",
       "      <td>139.0</td>\n",
       "    </tr>\n",
       "    <tr>\n",
       "      <th>2</th>\n",
       "      <td>3</td>\n",
       "      <td>1.42%</td>\n",
       "      <td>Gary Mosher</td>\n",
       "      <td>32826 AU 17 AA</td>\n",
       "      <td>BKC</td>\n",
       "      <td>F</td>\n",
       "      <td>494, 539</td>\n",
       "      <td>103.0</td>\n",
       "    </tr>\n",
       "    <tr>\n",
       "      <th>3</th>\n",
       "      <td>4</td>\n",
       "      <td>2.21%</td>\n",
       "      <td>Todd Bartholomew</td>\n",
       "      <td>35624 AU 17 JEDD</td>\n",
       "      <td>BC</td>\n",
       "      <td>F</td>\n",
       "      <td>547, 468</td>\n",
       "      <td>226.0</td>\n",
       "    </tr>\n",
       "    <tr>\n",
       "      <th>4</th>\n",
       "      <td>5</td>\n",
       "      <td>2.61%</td>\n",
       "      <td>Dustin Maxfield</td>\n",
       "      <td>3322 AU 17 OGN</td>\n",
       "      <td>BB</td>\n",
       "      <td>M</td>\n",
       "      <td>462, 462</td>\n",
       "      <td>171.0</td>\n",
       "    </tr>\n",
       "  </tbody>\n",
       "</table>\n",
       "</div>"
      ],
      "text/plain": [
       "   Position Avg Unirate              Name     Racing Pigeon Color Sex  \\\n",
       "0         1       0.26%      Dean Schultz    751 AU 18 PURP    BB   F   \n",
       "1         2       1.08%       Dick Fassio    9027 AU 19 SLI  BBAR   F   \n",
       "2         3       1.42%       Gary Mosher    32826 AU 17 AA   BKC   F   \n",
       "3         4       2.21%  Todd Bartholomew  35624 AU 17 JEDD    BC   F   \n",
       "4         5       2.61%   Dustin Maxfield    3322 AU 17 OGN    BB   M   \n",
       "\n",
       "  Qualifying Race Miles  Average Birdage  \n",
       "0              469, 469            612.0  \n",
       "1              579, 500            139.0  \n",
       "2              494, 539            103.0  \n",
       "3              547, 468            226.0  \n",
       "4              462, 462            171.0  "
      ]
     },
     "execution_count": 5,
     "metadata": {},
     "output_type": "execute_result"
    }
   ],
   "source": [
    "df.head()"
   ]
  },
  {
   "cell_type": "markdown",
   "metadata": {},
   "source": [
    "## <br><br>Working with Missing Data"
   ]
  },
  {
   "cell_type": "markdown",
   "metadata": {},
   "source": [
    "<br>Let's look at a larger sample of our dataset:"
   ]
  },
  {
   "cell_type": "code",
   "execution_count": 6,
   "metadata": {},
   "outputs": [
    {
     "data": {
      "text/html": [
       "<div>\n",
       "<style scoped>\n",
       "    .dataframe tbody tr th:only-of-type {\n",
       "        vertical-align: middle;\n",
       "    }\n",
       "\n",
       "    .dataframe tbody tr th {\n",
       "        vertical-align: top;\n",
       "    }\n",
       "\n",
       "    .dataframe thead th {\n",
       "        text-align: right;\n",
       "    }\n",
       "</style>\n",
       "<table border=\"1\" class=\"dataframe\">\n",
       "  <thead>\n",
       "    <tr style=\"text-align: right;\">\n",
       "      <th></th>\n",
       "      <th>Position</th>\n",
       "      <th>Avg Unirate</th>\n",
       "      <th>Name</th>\n",
       "      <th>Racing Pigeon</th>\n",
       "      <th>Color</th>\n",
       "      <th>Sex</th>\n",
       "      <th>Qualifying Race Miles</th>\n",
       "      <th>Average Birdage</th>\n",
       "    </tr>\n",
       "  </thead>\n",
       "  <tbody>\n",
       "    <tr>\n",
       "      <th>1</th>\n",
       "      <td>2</td>\n",
       "      <td>1.08%</td>\n",
       "      <td>Dick Fassio</td>\n",
       "      <td>9027 AU 19 SLI</td>\n",
       "      <td>BBAR</td>\n",
       "      <td>F</td>\n",
       "      <td>579, 500</td>\n",
       "      <td>139.0</td>\n",
       "    </tr>\n",
       "    <tr>\n",
       "      <th>30</th>\n",
       "      <td>31</td>\n",
       "      <td>9.65%</td>\n",
       "      <td>Joe Bevington</td>\n",
       "      <td>25221 AU 18 ARPU</td>\n",
       "      <td>BC</td>\n",
       "      <td>F</td>\n",
       "      <td>488, 572</td>\n",
       "      <td>353.0</td>\n",
       "    </tr>\n",
       "    <tr>\n",
       "      <th>25</th>\n",
       "      <td>26</td>\n",
       "      <td>8.64%</td>\n",
       "      <td>Steve Cox</td>\n",
       "      <td>91 AU 18 PCO</td>\n",
       "      <td>BLCH</td>\n",
       "      <td>F</td>\n",
       "      <td>536, 539</td>\n",
       "      <td>72.0</td>\n",
       "    </tr>\n",
       "    <tr>\n",
       "      <th>22</th>\n",
       "      <td>23</td>\n",
       "      <td>8.01%</td>\n",
       "      <td>Gary Mosher</td>\n",
       "      <td>32882 AU 17 AA</td>\n",
       "      <td>BLS</td>\n",
       "      <td>M</td>\n",
       "      <td>539, 494</td>\n",
       "      <td>103.0</td>\n",
       "    </tr>\n",
       "    <tr>\n",
       "      <th>23</th>\n",
       "      <td>24</td>\n",
       "      <td>8.07%</td>\n",
       "      <td>Alven Gines</td>\n",
       "      <td>9833 AU 19 SLI</td>\n",
       "      <td>BBAR</td>\n",
       "      <td>F</td>\n",
       "      <td>584, 505</td>\n",
       "      <td>123.0</td>\n",
       "    </tr>\n",
       "    <tr>\n",
       "      <th>0</th>\n",
       "      <td>1</td>\n",
       "      <td>0.26%</td>\n",
       "      <td>Dean Schultz</td>\n",
       "      <td>751 AU 18 PURP</td>\n",
       "      <td>BB</td>\n",
       "      <td>F</td>\n",
       "      <td>469, 469</td>\n",
       "      <td>612.0</td>\n",
       "    </tr>\n",
       "    <tr>\n",
       "      <th>33</th>\n",
       "      <td>34</td>\n",
       "      <td>9.86%</td>\n",
       "      <td>Dave Tracey</td>\n",
       "      <td>34 AU 18 PCO</td>\n",
       "      <td>BB</td>\n",
       "      <td>M</td>\n",
       "      <td>537, 535</td>\n",
       "      <td>72.0</td>\n",
       "    </tr>\n",
       "    <tr>\n",
       "      <th>11</th>\n",
       "      <td>12</td>\n",
       "      <td>3.73%</td>\n",
       "      <td>Matt Badzinski</td>\n",
       "      <td>29245 AU 16 AA</td>\n",
       "      <td>BB</td>\n",
       "      <td>F</td>\n",
       "      <td>539, 478</td>\n",
       "      <td>209.0</td>\n",
       "    </tr>\n",
       "    <tr>\n",
       "      <th>20</th>\n",
       "      <td>21</td>\n",
       "      <td>6.81%</td>\n",
       "      <td>Dustin Maxfield</td>\n",
       "      <td>7800 AU 19 OGN</td>\n",
       "      <td>NaN</td>\n",
       "      <td>F</td>\n",
       "      <td>541, 462</td>\n",
       "      <td>NaN</td>\n",
       "    </tr>\n",
       "    <tr>\n",
       "      <th>19</th>\n",
       "      <td>20</td>\n",
       "      <td>6.78%</td>\n",
       "      <td>Keith Delpozzo</td>\n",
       "      <td>913 AU 16 SRI</td>\n",
       "      <td>NaN</td>\n",
       "      <td>M</td>\n",
       "      <td>466, 567</td>\n",
       "      <td>31.0</td>\n",
       "    </tr>\n",
       "  </tbody>\n",
       "</table>\n",
       "</div>"
      ],
      "text/plain": [
       "    Position Avg Unirate             Name     Racing Pigeon Color Sex  \\\n",
       "1          2       1.08%      Dick Fassio    9027 AU 19 SLI  BBAR   F   \n",
       "30        31       9.65%    Joe Bevington  25221 AU 18 ARPU    BC   F   \n",
       "25        26       8.64%        Steve Cox      91 AU 18 PCO  BLCH   F   \n",
       "22        23       8.01%      Gary Mosher    32882 AU 17 AA   BLS   M   \n",
       "23        24       8.07%      Alven Gines    9833 AU 19 SLI  BBAR   F   \n",
       "0          1       0.26%     Dean Schultz    751 AU 18 PURP    BB   F   \n",
       "33        34       9.86%      Dave Tracey      34 AU 18 PCO    BB   M   \n",
       "11        12       3.73%   Matt Badzinski    29245 AU 16 AA    BB   F   \n",
       "20        21       6.81%  Dustin Maxfield    7800 AU 19 OGN   NaN   F   \n",
       "19        20       6.78%   Keith Delpozzo     913 AU 16 SRI   NaN   M   \n",
       "\n",
       "   Qualifying Race Miles  Average Birdage  \n",
       "1               579, 500            139.0  \n",
       "30              488, 572            353.0  \n",
       "25              536, 539             72.0  \n",
       "22              539, 494            103.0  \n",
       "23              584, 505            123.0  \n",
       "0               469, 469            612.0  \n",
       "33              537, 535             72.0  \n",
       "11              539, 478            209.0  \n",
       "20              541, 462              NaN  \n",
       "19              466, 567             31.0  "
      ]
     },
     "execution_count": 6,
     "metadata": {},
     "output_type": "execute_result"
    }
   ],
   "source": [
    "df.sample(10)"
   ]
  },
  {
   "cell_type": "markdown",
   "metadata": {},
   "source": [
    "<br>Missing values are represented as a special pandas object: **`NaN`**. It stands for Not a Number. The NaN value will let you complete numerical calculations on your data - it will ignore the value, so it will not include the value in calculations."
   ]
  },
  {
   "cell_type": "code",
   "execution_count": 8,
   "metadata": {},
   "outputs": [
    {
     "data": {
      "text/plain": [
       "149.79310344827587"
      ]
     },
     "execution_count": 8,
     "metadata": {},
     "output_type": "execute_result"
    }
   ],
   "source": [
    "df[\"Average Birdage\"].mean()"
   ]
  },
  {
   "cell_type": "markdown",
   "metadata": {},
   "source": [
    "### <br><br>Finding missing data"
   ]
  },
  {
   "cell_type": "markdown",
   "metadata": {},
   "source": [
    "We can look for missing data in our DataFrame using `isnull()`."
   ]
  },
  {
   "cell_type": "code",
   "execution_count": null,
   "metadata": {},
   "outputs": [],
   "source": [
    "df.isnull()"
   ]
  },
  {
   "cell_type": "markdown",
   "metadata": {},
   "source": [
    "<br><br>This would be hard to sort through in a big DataFrame, so we can add the `nunique()` aggregation function to see which columns have missing data:"
   ]
  },
  {
   "cell_type": "code",
   "execution_count": null,
   "metadata": {},
   "outputs": [],
   "source": [
    "df.isnull().nunique()"
   ]
  },
  {
   "cell_type": "markdown",
   "metadata": {},
   "source": [
    "<br>Or we could check a particular column of interest:"
   ]
  },
  {
   "cell_type": "code",
   "execution_count": 3,
   "metadata": {},
   "outputs": [
    {
     "data": {
      "text/plain": [
       "2"
      ]
     },
     "execution_count": 3,
     "metadata": {},
     "output_type": "execute_result"
    }
   ],
   "source": [
    "df[\"Color\"].isnull().nunique()"
   ]
  },
  {
   "cell_type": "markdown",
   "metadata": {},
   "source": [
    "<br>Another way to look for missing data is to get a count of each column:"
   ]
  },
  {
   "cell_type": "code",
   "execution_count": 4,
   "metadata": {},
   "outputs": [
    {
     "data": {
      "text/plain": [
       "Position                 34\n",
       "Avg Unirate              34\n",
       "Name                     34\n",
       "Racing Pigeon            34\n",
       "Color                    27\n",
       "Sex                      34\n",
       "Qualifying Race Miles    34\n",
       "Average Birdage          29\n",
       "dtype: int64"
      ]
     },
     "execution_count": 4,
     "metadata": {},
     "output_type": "execute_result"
    }
   ],
   "source": [
    "df.count()"
   ]
  },
  {
   "cell_type": "markdown",
   "metadata": {},
   "source": [
    "<br><br>We have two columns with missing data - one is numerical data (Average Birdage) and one is categorial (Color).\n",
    "<br><br>We're going to walk through a few common ways to deal with missing data. \n",
    "<br><br>First, let's check the number of rows and columns in our original DataFrame to compare later:"
   ]
  },
  {
   "cell_type": "code",
   "execution_count": null,
   "metadata": {},
   "outputs": [],
   "source": [
    "df.shape"
   ]
  },
  {
   "cell_type": "markdown",
   "metadata": {},
   "source": [
    "### <br><br>Drop all rows with NaN"
   ]
  },
  {
   "cell_type": "markdown",
   "metadata": {},
   "source": [
    "Let's drop every row with any NaN value using the `dropna()` function."
   ]
  },
  {
   "cell_type": "code",
   "execution_count": null,
   "metadata": {},
   "outputs": [],
   "source": [
    "df_no_nan_rows = df.dropna()\n",
    "df_no_nan_rows.shape"
   ]
  },
  {
   "cell_type": "markdown",
   "metadata": {},
   "source": [
    "### <br><br>Drop all columns with NaN"
   ]
  },
  {
   "cell_type": "markdown",
   "metadata": {},
   "source": [
    "Same function, but we add the keyword argument for columns:"
   ]
  },
  {
   "cell_type": "code",
   "execution_count": null,
   "metadata": {},
   "outputs": [],
   "source": [
    "df_no_nan_columns = df.dropna(axis=1)\n",
    "df_no_nan_columns.shape"
   ]
  },
  {
   "cell_type": "markdown",
   "metadata": {},
   "source": [
    "### <br><br>Drop rows with NaN in a particular column"
   ]
  },
  {
   "cell_type": "markdown",
   "metadata": {},
   "source": [
    "At first, you might try to use the regular `drop()` function with a boolean, but this won't work:"
   ]
  },
  {
   "cell_type": "code",
   "execution_count": null,
   "metadata": {},
   "outputs": [],
   "source": [
    "df_drop_rows_nan_color = df.drop(df[\"Color\"].isnull())\n",
    "df_drop_rows_nan_color.shape"
   ]
  },
  {
   "cell_type": "markdown",
   "metadata": {},
   "source": [
    "<br>Instead, we can use this syntax, which filters the entire dataset on a different boolean. We are using the pandas function `notnull()` to return any non-NaN values. We pass the function the piece of the DataFrame that we want it to search through:"
   ]
  },
  {
   "cell_type": "code",
   "execution_count": null,
   "metadata": {},
   "outputs": [],
   "source": [
    "df_drop_rows_nan_color = df[pd.notnull(df[\"Color\"])]\n",
    "df_drop_rows_nan_color.shape"
   ]
  },
  {
   "cell_type": "markdown",
   "metadata": {},
   "source": [
    "### <br><br>Replace all NaNs with zero"
   ]
  },
  {
   "cell_type": "markdown",
   "metadata": {},
   "source": [
    "Pandas has a `fillna()` function that will work over the entire DataFrame:"
   ]
  },
  {
   "cell_type": "code",
   "execution_count": null,
   "metadata": {},
   "outputs": [],
   "source": [
    "df_fill_zeros = df.fillna(0)\n",
    "df_fill_zeros.shape"
   ]
  },
  {
   "cell_type": "code",
   "execution_count": null,
   "metadata": {},
   "outputs": [],
   "source": [
    "df_fill_zeros.sample(10)"
   ]
  },
  {
   "cell_type": "markdown",
   "metadata": {},
   "source": [
    "<br>This replaced NaNs in both the Colors and Average Birdage columns with 0. That might not be what you want to do."
   ]
  },
  {
   "cell_type": "markdown",
   "metadata": {},
   "source": [
    "### <br><br>Replace NaNs in only one column with the mean value of that column."
   ]
  },
  {
   "cell_type": "markdown",
   "metadata": {},
   "source": [
    "This one is tricky. I don't expect you to remember how to do this. As with many things in Pandas, it isn't always intuitive how to solve every unique situation. Pandas users rely on looking things up online, and that is what I did to solve this one. "
   ]
  },
  {
   "cell_type": "markdown",
   "metadata": {},
   "source": [
    "<br>First, we need to make a copy of the original DataFrame because we are going to reference the new version on the left side of our assignment operator. Then I am going to reassign the Average Birdage column to the same column, but with the `fillna()` function applied. I am going to fill the NaNs with the mean value of that column."
   ]
  },
  {
   "cell_type": "code",
   "execution_count": null,
   "metadata": {},
   "outputs": [],
   "source": [
    "df_mean_birdage = df.copy()\n",
    "df_mean_birdage[\"Average Birdage\"] = df_mean_birdage[\"Average Birdage\"].fillna(df[\"Average Birdage\"].mean())\n",
    "df_mean_birdage.sample(10)"
   ]
  },
  {
   "cell_type": "markdown",
   "metadata": {},
   "source": [
    "### <br><br>Exercise"
   ]
  },
  {
   "cell_type": "markdown",
   "metadata": {},
   "source": [
    "Write code to replace any missing data in the Colors column with the string \"BB\". I've started for you by making a copy of the DataFrame."
   ]
  },
  {
   "cell_type": "code",
   "execution_count": null,
   "metadata": {},
   "outputs": [],
   "source": [
    "df_replace_colors = df.copy()"
   ]
  },
  {
   "cell_type": "code",
   "execution_count": null,
   "metadata": {},
   "outputs": [],
   "source": []
  },
  {
   "cell_type": "code",
   "execution_count": null,
   "metadata": {},
   "outputs": [],
   "source": [
    "df_replace_colors.sample(10)"
   ]
  },
  {
   "cell_type": "markdown",
   "metadata": {},
   "source": [
    "## <br><br>Basic plotting in pandas"
   ]
  },
  {
   "cell_type": "markdown",
   "metadata": {},
   "source": [
    "Other python packages can help you make beautiful visualizations of your data. With Pandas, you can make several simple plots, including histograms, box and whisker plots, bar graphs, scatter plots, and pie charts. "
   ]
  },
  {
   "cell_type": "markdown",
   "metadata": {},
   "source": [
    "<br>Let's work with the version of our DataFrame where we removed all the rows with missing data, but we'll rename it `df` for convenience:"
   ]
  },
  {
   "cell_type": "code",
   "execution_count": null,
   "metadata": {},
   "outputs": [],
   "source": [
    "df = df_no_nan_rows\n",
    "df.head()"
   ]
  },
  {
   "cell_type": "markdown",
   "metadata": {},
   "source": [
    "<br><br>We will first make a simple scatter plot of the columns `Position` and `Average Birdage`. We use the `plot()` function. At the least, we need to include three arguments: the kind of plot to make, the data to use for the x axis, and the data to use for the y axis."
   ]
  },
  {
   "cell_type": "code",
   "execution_count": null,
   "metadata": {},
   "outputs": [],
   "source": [
    "age_scatter = df.plot(kind=\"scatter\", x=\"Position\", y=\"Average Birdage\")\n",
    "\n"
   ]
  },
  {
   "cell_type": "markdown",
   "metadata": {},
   "source": [
    "<br><br>Let's make a bar graph of the mean Position for each sex of bird. First we group by the Sex column, then subsample only the Position column, then calculate the means, and finally plot the means. I also added an argument for \"title\" to this plot."
   ]
  },
  {
   "cell_type": "code",
   "execution_count": 9,
   "metadata": {},
   "outputs": [
    {
     "data": {
      "image/png": "[encoded data removed]",
      "text/plain": [
       "<Figure size 432x288 with 1 Axes>"
      ]
     },
     "metadata": {
      "needs_background": "light"
     },
     "output_type": "display_data"
    }
   ],
   "source": [
    "male_female_bar = df.groupby(\"Sex\")[\"Position\"].mean().plot(kind = 'bar', title = \"Position by color\")\n",
    "\n"
   ]
  },
  {
   "cell_type": "markdown",
   "metadata": {},
   "source": [
    "### Exercise"
   ]
  },
  {
   "cell_type": "markdown",
   "metadata": {},
   "source": [
    "Write code to make a bar chart to see if Position is related to Color:"
   ]
  },
  {
   "cell_type": "code",
   "execution_count": null,
   "metadata": {},
   "outputs": [],
   "source": []
  },
  {
   "cell_type": "markdown",
   "metadata": {},
   "source": [
    "<br><br><br>To make plots that are any more complicated than this (and much better looking), you're going to want to use **MatPlotLib** - the main plotting package for Python. MatPlotLib is built on pandas and works well with pandas DataFrames and Series objects, as well as other objects like lists and dicitonaries. There is a four-day workshop on MatPlotLib coming up the first week of August as part of the Next Steps in Python series."
   ]
  },
  {
   "cell_type": "markdown",
   "metadata": {},
   "source": [
    "## <br><br>Other ways to get summary stats about your data"
   ]
  },
  {
   "cell_type": "markdown",
   "metadata": {},
   "source": [
    "There are several Python packages that will give you more summary stats about your data. I will demo one - **pandas-profiling** - in Google Colab. The installation was a little too tricky to set up for everyone to run themselves today. Another package is SweetViz."
   ]
  },
  {
   "cell_type": "markdown",
   "metadata": {},
   "source": [
    "## <br><br>Two tips for Data Science in Jupyter Notebooks"
   ]
  },
  {
   "cell_type": "markdown",
   "metadata": {},
   "source": [
    "1. Use separate notebooks for Data Collection, Cleaning, Analysis, and Visualization.\n",
    "- Save the changed DataFrame as a new csv file after each notebook.\n",
    "- If you don't do this, your notebook will start to get really slow.\n",
    "2. When cleaning your data - write down every choice you make.\n",
    "- You can use a text doc, or a markdown cell at the bottom of your notebook, or whatever works for you.\n",
    "- If you replace missing data with 0, write that down. If you remove rows for any reason, write it down.\n",
    "- After you start your analysis, you might want to change things about how you cleaned the data. If you write down what you already did, you won't repeat yourself.\n",
    "- When you go to publish a paper and are writing your methods section for the analysis you ran, will you remember how many rows you removed for missing data?"
   ]
  },
  {
   "cell_type": "code",
   "execution_count": null,
   "metadata": {},
   "outputs": [],
   "source": []
  }
 ],
 "metadata": {
  "kernelspec": {
   "display_name": "Python 3",
   "language": "python",
   "name": "python3"
  },
  "language_info": {
   "codemirror_mode": {
    "name": "ipython",
    "version": 3
   },
   "file_extension": ".py",
   "mimetype": "text/x-python",
   "name": "python",
   "nbconvert_exporter": "python",
   "pygments_lexer": "ipython3",
   "version": "3.7.3"
  }
 },
 "nbformat": 4,
 "nbformat_minor": 4
}
