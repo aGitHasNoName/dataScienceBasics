{
 "cells": [
  {
   "cell_type": "markdown",
   "metadata": {
    "id": "r7HEcO-5kfzR"
   },
   "source": [
    "# pandas-profiling setup"
   ]
  },
  {
   "cell_type": "markdown",
   "metadata": {},
   "source": [
    "**Disclaimer:** This installation code works on Colab. It works on my laptop. I can't promise it will work on everyone's computer, but you can always run it in Colab!"
   ]
  },
  {
   "cell_type": "markdown",
   "metadata": {
    "id": "fmsMR1NZks4K"
   },
   "source": [
    "<br><br>Run this code to install pandas-profiling and make the output visible in this notebook:"
   ]
  },
  {
   "cell_type": "code",
   "execution_count": null,
   "metadata": {
    "id": "QN6kaR4To6b-"
   },
   "outputs": [],
   "source": [
    "import sys\n",
    "!{sys.executable} -m pip install -U pandas-profiling[notebook]\n",
    "!jupyter nbextension enable --py widgetsnbextension"
   ]
  },
  {
   "cell_type": "markdown",
   "metadata": {
    "id": "cIfzJnXDlE6Q"
   },
   "source": [
    "<br><br>Import pandas and pandas-profiling:"
   ]
  },
  {
   "cell_type": "code",
   "execution_count": null,
   "metadata": {
    "id": "2xWtl-77j9ZM"
   },
   "outputs": [],
   "source": [
    "import pandas_profiling\n",
    "import pandas as pd"
   ]
  },
  {
   "cell_type": "markdown",
   "metadata": {
    "id": "awZa73b5k70e"
   },
   "source": [
    "<br><br>**If you are using Colab AND if you want to use the forest fires dataset, run this line to pull in the file from GitHub:**"
   ]
  },
  {
   "cell_type": "code",
   "execution_count": null,
   "metadata": {
    "id": "kbMuohvLks11"
   },
   "outputs": [],
   "source": [
    "!wget https://raw.githubusercontent.com/aGitHasNoName/dataScienceBasics/main/forestfires.csv"
   ]
  },
  {
   "cell_type": "markdown",
   "metadata": {
    "id": "0u_bqksolRRT"
   },
   "source": [
    "<br><br>Everyone: If you want to use the forest fires dataset, run this next code block as is. \n",
    "<br><br>**If you are running this notebook locally on your computer and you want to use your own dataset**:\n",
    "- Change the `filename` variable in the line below to the path to your file (or you can copy the file into the folder you are working from and use only the filename).\n",
    "- If it is not a csv file, you'll need to use `pd.read_excel()` instead.\n",
    "\n",
    "<br>**If you are using Colab and you want to use your own dataset**:\n",
    "- Upload your data file to Colab by clicking on the folder icon on the left vertical menu. Right click anywhere in the filetree and choose Upload. Choose your file.\n",
    "- Change the `filename` variable in the line below to your filename.\n",
    "- If it is not a csv file, you'll need to use `pd.read_excel()` instead."
   ]
  },
  {
   "cell_type": "code",
   "execution_count": null,
   "metadata": {
    "id": "V-tfRStBoqrY"
   },
   "outputs": [],
   "source": [
    "filename = \"forestfires.csv\"\n",
    "df = pd.read_csv(filename)"
   ]
  },
  {
   "cell_type": "markdown",
   "metadata": {
    "id": "y29CfX66mSQA"
   },
   "source": [
    "<br><br>Run this line to create your data profile report:"
   ]
  },
  {
   "cell_type": "code",
   "execution_count": null,
   "metadata": {
    "id": "3QV76jkTozuH"
   },
   "outputs": [],
   "source": [
    "df.profile_report()"
   ]
  },
  {
   "cell_type": "code",
   "execution_count": null,
   "metadata": {
    "id": "RKY5auWQpTrO"
   },
   "outputs": [],
   "source": []
  }
 ],
 "metadata": {
  "colab": {
   "collapsed_sections": [],
   "name": "pandasProfilingColab.ipynb",
   "provenance": []
  },
  "kernelspec": {
   "display_name": "Python 3",
   "language": "python",
   "name": "python3"
  },
  "language_info": {
   "codemirror_mode": {
    "name": "ipython",
    "version": 3
   },
   "file_extension": ".py",
   "mimetype": "text/x-python",
   "name": "python",
   "nbconvert_exporter": "python",
   "pygments_lexer": "ipython3",
   "version": "3.7.3"
  }
 },
 "nbformat": 4,
 "nbformat_minor": 4
}
